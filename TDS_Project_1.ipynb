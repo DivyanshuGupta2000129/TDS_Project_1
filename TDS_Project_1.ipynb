{
  "nbformat": 4,
  "nbformat_minor": 0,
  "metadata": {
    "colab": {
      "provenance": []
    },
    "kernelspec": {
      "name": "python3",
      "display_name": "Python 3"
    },
    "language_info": {
      "name": "python"
    }
  },
  "cells": [
    {
      "cell_type": "code",
      "source": [
        "# Set up GitHub token\n",
        "GITHUB_TOKEN = 'set_your_token'\n"
      ],
      "metadata": {
        "id": "yh6Ueudjt69R"
      },
      "execution_count": 65,
      "outputs": []
    },
    {
      "cell_type": "code",
      "source": [
        "import requests\n",
        "import pandas as pd\n",
        "\n",
        "HEADERS = {'Authorization': f'token {GITHUB_TOKEN}',\n",
        "           'Accept': 'application/vnd.github.v3+json'}\n",
        "\n",
        "# Initialize lists for user data and repository data\n",
        "user_data = []\n",
        "repository_data = []\n",
        "\n",
        "# Function to fetch users with pagination\n",
        "def fetch_users(page):\n",
        "    url = f'https://api.github.com/search/users?q=location:Chicago+followers:>100&per_page=100&page={page}'\n",
        "    response = requests.get(url, headers=HEADERS)\n",
        "    return response.json()\n",
        "\n",
        "# Loop through pages to get all users\n",
        "page = 1\n",
        "while True:\n",
        "    users_response = fetch_users(page)\n",
        "    users = users_response.get('items', [])\n",
        "\n",
        "    if not users:  # Stop if there are no more users\n",
        "        break\n",
        "\n",
        "    # Process each user\n",
        "    for user in users:\n",
        "        login = user['login']\n",
        "        user_response = requests.get(f'https://api.github.com/users/{login}', headers=HEADERS)\n",
        "        userdetail = user_response.json()\n",
        "\n",
        "        name = userdetail.get('name', \"\")\n",
        "        company = (userdetail.get('company') or \"\").strip('@').upper().strip()\n",
        "        location = userdetail.get('location', \"\")\n",
        "        email = userdetail.get('email', \"\")\n",
        "        hireable = \"true\" if userdetail.get('hireable') else \"false\" if userdetail.get('hireable') is not None else \"\"\n",
        "        bio = userdetail.get('bio', \"\")\n",
        "        public_repos = userdetail.get('public_repos', 0)\n",
        "        followers = userdetail.get('followers', 0)\n",
        "        following = userdetail.get('following', 0)\n",
        "        created_at = userdetail.get('created_at', \"\")\n",
        "\n",
        "        user_data.append([login, name, company, location, email, hireable, bio, public_repos, followers, following, created_at])\n",
        "\n",
        "        # Fetch repositories for the user with pagination\n",
        "        repo_page = 1\n",
        "        while True:\n",
        "            repos_response = requests.get(f'https://api.github.com/users/{login}/repos?per_page=100&page={repo_page}', headers=HEADERS)\n",
        "            repos = repos_response.json()\n",
        "\n",
        "            if not repos:  # Stop if there are no more repositories\n",
        "                break\n",
        "\n",
        "            for repo in repos:\n",
        "                repo_login = repo['owner']['login']\n",
        "                full_name = repo['full_name']\n",
        "                repo_created_at = repo['created_at']\n",
        "                stargazers_count = repo['stargazers_count']\n",
        "                watchers_count = repo['watchers_count']\n",
        "                language = repo['language']\n",
        "                has_projects = \"true\" if repo.get('has_projects') else \"false\" if repo.get('has_projects') is not None else \"\"\n",
        "                has_wiki = \"true\" if repo.get('has_wiki') else \"false\" if repo.get('has_wiki') is not None else \"\"\n",
        "                license_name = repo['license']['name'] if repo.get('license') else \"\"\n",
        "\n",
        "                repository_data.append([repo_login, full_name, repo_created_at, stargazers_count, watchers_count, language, has_projects, has_wiki, license_name])\n",
        "\n",
        "            repo_page += 1  # Move to the next page of repositories\n",
        "\n",
        "    page += 1  # Move to the next page of users\n",
        "\n",
        "# Convert to DataFrame\n",
        "users_df = pd.DataFrame(user_data, columns=['login', 'name', 'company', 'location', 'email', 'hireable', 'bio', 'public_repos', 'followers', 'following', 'created_at'])\n",
        "repos_df = pd.DataFrame(repository_data, columns=['login', 'full_name', 'created_at', 'stargazers_count', 'watchers_count', 'language', 'has_projects', 'has_wiki', 'license_name'])\n",
        "\n",
        "# Save to CSV\n",
        "users_df.to_csv('users.csv', index=False)\n",
        "repos_df.to_csv('repositories.csv', index=False)\n",
        "\n",
        "print(\"User data extracted and saved to users.csv and repositories.csv.\")\n"
      ],
      "metadata": {
        "colab": {
          "base_uri": "https://localhost:8080/"
        },
        "id": "WHkpei02t39D",
        "outputId": "eba928f3-4d66-4882-8d5d-052568728bf2"
      },
      "execution_count": 66,
      "outputs": [
        {
          "output_type": "stream",
          "name": "stdout",
          "text": [
            "User data extracted and saved to users.csv and repositories.csv.\n"
          ]
        }
      ]
    },
    {
      "cell_type": "code",
      "source": [],
      "metadata": {
        "id": "-DbmNzKaQKZ7"
      },
      "execution_count": null,
      "outputs": []
    }
  ]
}
